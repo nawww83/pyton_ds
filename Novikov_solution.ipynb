{
 "cells": [
  {
   "cell_type": "markdown",
   "metadata": {},
   "source": [
    "# Курсовой проект по курсу \"Python для DataScience часть 2\""
   ]
  },
  {
   "cell_type": "markdown",
   "metadata": {},
   "source": [
    "## Импорт библиотек"
   ]
  },
  {
   "cell_type": "code",
   "execution_count": null,
   "metadata": {},
   "outputs": [],
   "source": [
    "import numpy as np\n",
    "import pandas as pd\n",
    "\n",
    "import matplotlib\n",
    "import matplotlib.pyplot as plt\n",
    "%matplotlib inline\n",
    "\n",
    "from IPython.display import Markdown as md\n",
    "\n",
    "import seaborn as sns"
   ]
  },
  {
   "cell_type": "code",
   "execution_count": null,
   "metadata": {},
   "outputs": [],
   "source": [
    "test_path = 'course_project_test.csv'\n",
    "train_path = 'course_project_train.csv'"
   ]
  },
  {
   "cell_type": "markdown",
   "metadata": {},
   "source": [
    "## Построение модели классификации"
   ]
  },
  {
   "cell_type": "markdown",
   "metadata": {},
   "source": [
    "### 1. Обзор обучающего датасета"
   ]
  },
  {
   "cell_type": "code",
   "execution_count": null,
   "metadata": {},
   "outputs": [],
   "source": [
    "df_train = pd.read_csv(train_path)\n",
    "df_train.head()"
   ]
  },
  {
   "cell_type": "code",
   "execution_count": null,
   "metadata": {},
   "outputs": [],
   "source": [
    "df_train.shape"
   ]
  },
  {
   "cell_type": "markdown",
   "metadata": {},
   "source": [
    "Видим, что имеется 7500 наблюдений и 17 признаков, из них один признак - Credit Default - целевой."
   ]
  },
  {
   "cell_type": "code",
   "execution_count": null,
   "metadata": {},
   "outputs": [],
   "source": [
    "df_train.iloc[0]"
   ]
  },
  {
   "cell_type": "markdown",
   "metadata": {},
   "source": [
    "Описание датасета:\n",
    "\n",
    "    Home Ownership - домовладение,\n",
    "    Annual Income - годовой доход,\n",
    "    Years in current job - количество лет на текущем месте работы,\n",
    "    Tax Liens - налоговые обременения,\n",
    "    Number of Open Accounts - количество открытых счетов,\n",
    "    Years of Credit History - количество лет кредитной истории,\n",
    "    Maximum Open Credit - наибольший открытый кредит,\n",
    "    Number of Credit Problems - количество проблем с кредитом,\n",
    "    Months since last delinquent - количество месяцев с последней просрочки платежа,\n",
    "    Bankruptcies - банкротства,\n",
    "    Purpose - цель кредита,\n",
    "    Term - срок кредита,\n",
    "    Current Loan Amount - текущая сумма кредита,\n",
    "    Current Credit Balance - текущий кредитный баланс,\n",
    "    Monthly Debt - ежемесячный долг,\n",
    "    Credit Default - факт невыполнения кредитных обязательств (0 - погашен вовремя, 1 - просрочка)"
   ]
  },
  {
   "cell_type": "code",
   "execution_count": null,
   "metadata": {},
   "outputs": [],
   "source": [
    "df_train.info()"
   ]
  },
  {
   "cell_type": "markdown",
   "metadata": {},
   "source": [
    "Видим (там, где менее 7500), что есть пропуски. Это касается 'Annual Income', т.е. не у всех известен годовой доход. Что касается поля 'Month since last delinquent', то пропуски (NaN) можно заменить большим числом (фактически не было правонарушений). Таким числом может быть практически бесконечный срок кредита - 50 лет (600 месяцев)."
   ]
  },
  {
   "cell_type": "code",
   "execution_count": null,
   "metadata": {},
   "outputs": [],
   "source": [
    "df_train.describe()"
   ]
  },
  {
   "cell_type": "markdown",
   "metadata": {},
   "source": [
    "В целом, каких-то заоблачных значений нет, за исключением, возможно, суммы наибольшего открытого кредита кредита около 1300 млн. руб или текущей суммы кредита около 100 млн. руб. Из таблицы видно, что среднее значение 'Current Default' равно 0.28, что говорит о несбалансированности выборки (в данной выборке \"дефолтников\" около 28%)."
   ]
  },
  {
   "cell_type": "markdown",
   "metadata": {},
   "source": [
    "### 2. Обработка выбросов"
   ]
  },
  {
   "cell_type": "code",
   "execution_count": null,
   "metadata": {},
   "outputs": [],
   "source": [
    "col_name = 'Current Loan Amount'\n",
    "ax = sns.boxplot(y = df_train[col_name])"
   ]
  },
  {
   "cell_type": "markdown",
   "metadata": {},
   "source": [
    "Путем перебора выясняем, что подозрительным является значение \"все девятки\""
   ]
  },
  {
   "cell_type": "code",
   "execution_count": null,
   "metadata": {},
   "outputs": [],
   "source": [
    "val = 99999999\n",
    "sum(df_train[col_name] == val)"
   ]
  },
  {
   "cell_type": "markdown",
   "metadata": {},
   "source": [
    "Посмотрим на статистику данных в этом подозрительном разрезе"
   ]
  },
  {
   "cell_type": "code",
   "execution_count": null,
   "metadata": {},
   "outputs": [],
   "source": [
    "df_train[df_train[col_name] == val][set(df_train.columns) - {col_name}].describe()"
   ]
  },
  {
   "cell_type": "markdown",
   "metadata": {},
   "source": [
    "Видим, что это \"недефолтники\" (max и min 'Credit Default' равны 0), а так как недефолтников в выборке больше, то удаление части их не так страшно (тех, у которых подозрительное значение 'Current Loan Amount' 99999999)."
   ]
  },
  {
   "cell_type": "markdown",
   "metadata": {},
   "source": [
    "Проверим признак 'Maximum Open Credit'"
   ]
  },
  {
   "cell_type": "code",
   "execution_count": null,
   "metadata": {},
   "outputs": [],
   "source": [
    "col_name = 'Maximum Open Credit'\n",
    "ax = sns.boxplot(y = df_train[col_name])"
   ]
  },
  {
   "cell_type": "code",
   "execution_count": null,
   "metadata": {},
   "outputs": [],
   "source": [
    "val = 1304726170\n",
    "sum(df_train[col_name] == val)"
   ]
  },
  {
   "cell_type": "code",
   "execution_count": null,
   "metadata": {},
   "outputs": [],
   "source": [
    "df_train[df_train[col_name] == val][set(df_train.columns) - {col_name}]"
   ]
  },
  {
   "cell_type": "markdown",
   "metadata": {},
   "source": [
    "Ничего особенного, но так как такое значение одно, то принимаем это за выброс и удаляем."
   ]
  },
  {
   "cell_type": "code",
   "execution_count": null,
   "metadata": {},
   "outputs": [],
   "source": [
    "df_train = df_train.drop(df_train[df_train[col_name] == val].index)"
   ]
  },
  {
   "cell_type": "code",
   "execution_count": null,
   "metadata": {},
   "outputs": [],
   "source": [
    "val = 380052288\n",
    "sum(df_train[col_name] == val)"
   ]
  },
  {
   "cell_type": "code",
   "execution_count": null,
   "metadata": {},
   "outputs": [],
   "source": [
    "df_train[df_train[col_name] == val][set(df_train.columns) - {col_name}]"
   ]
  },
  {
   "cell_type": "markdown",
   "metadata": {},
   "source": [
    "Ничего особенного. Опять удаляем выброс."
   ]
  },
  {
   "cell_type": "code",
   "execution_count": null,
   "metadata": {},
   "outputs": [],
   "source": [
    "df_train = df_train.drop(df_train[df_train[col_name] == val].index)"
   ]
  },
  {
   "cell_type": "code",
   "execution_count": null,
   "metadata": {},
   "outputs": [],
   "source": [
    "val = 265512874\n",
    "sum(df_train[col_name] == val)"
   ]
  },
  {
   "cell_type": "code",
   "execution_count": null,
   "metadata": {},
   "outputs": [],
   "source": [
    "df_train[df_train[col_name] == val][set(df_train.columns) - {col_name}]"
   ]
  },
  {
   "cell_type": "markdown",
   "metadata": {},
   "source": [
    "Ничего особенного.\n",
    "Итого: удаляем наблюдения, у которых признак 'Current Loan Amount' равен 99999999."
   ]
  },
  {
   "cell_type": "code",
   "execution_count": null,
   "metadata": {},
   "outputs": [],
   "source": [
    "df_train = df_train.drop(df_train[df_train[col_name] == val].index)"
   ]
  },
  {
   "cell_type": "code",
   "execution_count": null,
   "metadata": {},
   "outputs": [],
   "source": [
    "col_name = 'Current Loan Amount'\n",
    "val = 99999999\n",
    "df_train = df_train.drop(df_train[df_train[col_name] == val].index)"
   ]
  },
  {
   "cell_type": "code",
   "execution_count": null,
   "metadata": {},
   "outputs": [],
   "source": [
    "df_train.describe()"
   ]
  },
  {
   "cell_type": "markdown",
   "metadata": {},
   "source": [
    "Видим, что баланс выборки несколько улучшился (32% дефолтников), но ценой удаления 870 наблюдений (12%)."
   ]
  },
  {
   "cell_type": "markdown",
   "metadata": {},
   "source": [
    "### 3. Обработка пропусков"
   ]
  },
  {
   "cell_type": "markdown",
   "metadata": {},
   "source": [
    "Как уже говорилось ранее, заменим NaN в признаке 'Months since last delinquent' на 600 месяцев."
   ]
  },
  {
   "cell_type": "code",
   "execution_count": null,
   "metadata": {},
   "outputs": [],
   "source": [
    "col_name = 'Months since last delinquent'\n",
    "val = 600\n",
    "df_train[col_name].fillna(val, inplace = True)"
   ]
  },
  {
   "cell_type": "code",
   "execution_count": null,
   "metadata": {},
   "outputs": [],
   "source": [
    "df_train.describe()"
   ]
  },
  {
   "cell_type": "markdown",
   "metadata": {},
   "source": [
    "NaN в признаке 'Annual Income' заменим условной медианой (условной, т.е. зависящей от 'Credit Default')."
   ]
  },
  {
   "cell_type": "code",
   "execution_count": null,
   "metadata": {},
   "outputs": [],
   "source": [
    "print(df_train[df_train['Credit Default'] == 0]['Annual Income'].median())\n",
    "print(df_train[df_train['Credit Default'] == 1]['Annual Income'].median())"
   ]
  },
  {
   "cell_type": "code",
   "execution_count": null,
   "metadata": {},
   "outputs": [],
   "source": [
    "col_name = 'Annual Income'\n",
    "val_0 = df_train[df_train['Credit Default'] == 0][col_name].median()\n",
    "val_1 = df_train[df_train['Credit Default'] == 0][col_name].median()\n",
    "df_train.loc[df_train['Credit Default'] == 0, col_name] = df_train.loc[df_train['Credit Default'] == 0, col_name].fillna(val_0)\n",
    "df_train.loc[df_train['Credit Default'] == 1, col_name] = df_train.loc[df_train['Credit Default'] == 1, col_name].fillna(val_1)"
   ]
  },
  {
   "cell_type": "code",
   "execution_count": null,
   "metadata": {},
   "outputs": [],
   "source": [
    "df_train.describe()"
   ]
  },
  {
   "cell_type": "markdown",
   "metadata": {},
   "source": [
    "Видим, что не обработан признак 'Bankruptcies'."
   ]
  },
  {
   "cell_type": "code",
   "execution_count": null,
   "metadata": {},
   "outputs": [],
   "source": [
    "col_name = 'Bankruptcies'\n",
    "df_train[pd.isnull(df_train[col_name])][set(df_train.columns) - set(col_name)]"
   ]
  },
  {
   "cell_type": "markdown",
   "metadata": {},
   "source": [
    "Удаляем эти наблюдения."
   ]
  },
  {
   "cell_type": "code",
   "execution_count": null,
   "metadata": {},
   "outputs": [],
   "source": [
    "df_train.dropna(subset = [col_name], inplace = True)"
   ]
  },
  {
   "cell_type": "code",
   "execution_count": null,
   "metadata": {},
   "outputs": [],
   "source": [
    "df_train.describe()"
   ]
  },
  {
   "cell_type": "markdown",
   "metadata": {},
   "source": [
    "Остался признак 'Credit Score'. Посмотрим на его значимость (корреляцию с другими, в т.ч с целевой переменной)"
   ]
  },
  {
   "cell_type": "code",
   "execution_count": null,
   "metadata": {},
   "outputs": [],
   "source": [
    "corr_with_target = df_train.corr().iloc[:-1, -1].sort_values(ascending=False)\n",
    "\n",
    "plt.figure(figsize=(12, 4))\n",
    "\n",
    "sns.barplot(x=corr_with_target.values, y=corr_with_target.index)\n",
    "\n",
    "plt.title('Correlation with target variable')\n",
    "plt.show()"
   ]
  },
  {
   "cell_type": "code",
   "execution_count": null,
   "metadata": {},
   "outputs": [],
   "source": [
    "col_name = 'Credit Default'\n",
    "with_name = 'Credit Score'\n",
    "df_tmp = df_train.copy()\n",
    "df_tmp.dropna(subset = [with_name], inplace = True)\n",
    "limit_bal_with_target_s = df_tmp[[with_name, col_name]]\n",
    "\n",
    "sns.jointplot(x = col_name, y = with_name, data = limit_bal_with_target_s)\n",
    "plt.show()"
   ]
  },
  {
   "cell_type": "markdown",
   "metadata": {},
   "source": [
    "Видим, что 'Credit Score' в данном случае антирейтинг, т.е. если он большой (более 5000), то для данной выборки всегда следует дефолт. Если score менее 5000, то возможно два исхода, причем чаще нет дефолта."
   ]
  },
  {
   "cell_type": "code",
   "execution_count": null,
   "metadata": {},
   "outputs": [],
   "source": [
    "col_name = 'Credit Score'\n",
    "threshold = 5000\n",
    "print(sum((df_train[col_name] > threshold)))\n",
    "print(sum((df_train[col_name] < threshold)))"
   ]
  },
  {
   "cell_type": "markdown",
   "metadata": {},
   "source": [
    "Вероятность дефолта при score менее порога"
   ]
  },
  {
   "cell_type": "code",
   "execution_count": null,
   "metadata": {},
   "outputs": [],
   "source": [
    "p1_down = sum((df_train[col_name] < threshold) & (df_train['Credit Default'] == 1)) / sum((df_train[col_name] < threshold))\n",
    "print(format(p1_down, '.2f'))"
   ]
  },
  {
   "cell_type": "code",
   "execution_count": null,
   "metadata": {},
   "outputs": [],
   "source": [
    "plt.figure(figsize=(12, 4))\n",
    "sns.kdeplot(df_tmp.loc[(df_tmp['Credit Default'] == 0) & (df_train[col_name] < threshold), col_name], label = 'No Default')\n",
    "sns.kdeplot(df_tmp.loc[(df_tmp['Credit Default'] == 1) & (df_train[col_name] < threshold), col_name], label = 'Default')\n",
    "\n",
    "plt.title('Low Credit Score area')\n",
    "plt.show()"
   ]
  },
  {
   "cell_type": "markdown",
   "metadata": {},
   "source": [
    "Видим, что в нижней области рейтинга score его влияние правдоподобно: чем меньше в среднем рейтинг, тем выше вероятность дефолта (кривая 'Default' смещена левее кривой 'No Default'). Поэтому удалять рейтинг не стоит, а пропущенные значения стоит заменить на условную медиану."
   ]
  },
  {
   "cell_type": "code",
   "execution_count": null,
   "metadata": {},
   "outputs": [],
   "source": [
    "plt.figure(figsize=(12, 4))\n",
    "sns.kdeplot(df_tmp.loc[(df_tmp['Credit Default'] == 0) & (df_train[col_name] > threshold), col_name], label = 'No Default')\n",
    "sns.kdeplot(df_tmp.loc[(df_tmp['Credit Default'] == 1) & (df_train[col_name] > threshold), col_name], label = 'Default')\n",
    "\n",
    "plt.title('High Credit Score area')\n",
    "plt.show()"
   ]
  },
  {
   "cell_type": "code",
   "execution_count": null,
   "metadata": {},
   "outputs": [],
   "source": [
    "col_name = 'Credit Score'\n",
    "val_0 = df_train[df_train['Credit Default'] == 0][col_name].median()\n",
    "val_1 = df_train[df_train['Credit Default'] == 0][col_name].median()\n",
    "df_train.loc[df_train['Credit Default'] == 0, col_name] = df_train.loc[df_train['Credit Default'] == 0, col_name].fillna(val_0)\n",
    "df_train.loc[df_train['Credit Default'] == 1, col_name] = df_train.loc[df_train['Credit Default'] == 1, col_name].fillna(val_1)"
   ]
  },
  {
   "cell_type": "code",
   "execution_count": null,
   "metadata": {},
   "outputs": [],
   "source": [
    "df_train.describe()"
   ]
  },
  {
   "cell_type": "markdown",
   "metadata": {},
   "source": [
    "### 4. Анализ данных"
   ]
  },
  {
   "cell_type": "markdown",
   "metadata": {},
   "source": [
    "Выделим категориальные переменные."
   ]
  },
  {
   "cell_type": "code",
   "execution_count": null,
   "metadata": {},
   "outputs": [],
   "source": [
    "df_train.head()"
   ]
  },
  {
   "cell_type": "code",
   "execution_count": null,
   "metadata": {},
   "outputs": [],
   "source": [
    "df_train.info()"
   ]
  },
  {
   "cell_type": "code",
   "execution_count": null,
   "metadata": {},
   "outputs": [],
   "source": [
    "cat_col_names = list(df_train.select_dtypes(include = ['object']).columns)\n",
    "print('Категориальные признаки')\n",
    "print(cat_col_names)\n",
    "tgt_col_names = ['Credit Default']\n",
    "val_col_names = list(set(df_train.columns) - set(cat_col_names) - set(tgt_col_names))\n",
    "print('Числовые признаки')\n",
    "print(val_col_names)"
   ]
  },
  {
   "cell_type": "markdown",
   "metadata": {},
   "source": [
    "Посмотрим какие значения могут принимать категориальные переменные"
   ]
  },
  {
   "cell_type": "code",
   "execution_count": null,
   "metadata": {},
   "outputs": [],
   "source": [
    "for name in cat_col_names:\n",
    "    print(name)\n",
    "    print('*************')\n",
    "    print(set(df_train[name]))"
   ]
  },
  {
   "cell_type": "markdown",
   "metadata": {},
   "source": [
    "Видим значение NaN в признаке 'Years in current job'; видимо, это означает то, что клиент на данный момент не работает. Проанализируем корреляцию признаков с целевой переменной в разрезе категориальных определенных выше переменных."
   ]
  },
  {
   "cell_type": "code",
   "execution_count": null,
   "metadata": {},
   "outputs": [],
   "source": [
    "# Функция для построения корреляций признаков с целевой переменной в разрезах значений категориальной переменной col_name\n",
    "def graph_corr(col_name, data, sz):\n",
    "    cols = list(set(df_train[col_name]))\n",
    "    cols = [str(c) for c in cols]\n",
    "    for p in cols:\n",
    "        eq = df_train[col_name].astype('str') == p\n",
    "        count = sum(eq)\n",
    "        corr_with_target = df_train[eq].corr().iloc[:-1, -1].sort_values(ascending = False)\n",
    "        plt.figure(figsize = sz)\n",
    "        sns.barplot(x = corr_with_target.values, y = corr_with_target.index)\n",
    "        plt.title('Correlation with target variable. ' + col_name + ' = ' + str(p) + '. Count = ' + str(count))\n",
    "        plt.xlim([-1, 1])\n",
    "        plt.show()"
   ]
  },
  {
   "cell_type": "markdown",
   "metadata": {},
   "source": [
    "- Домовладение"
   ]
  },
  {
   "cell_type": "code",
   "execution_count": null,
   "metadata": {},
   "outputs": [],
   "source": [
    "col_name = 'Home Ownership'\n",
    "graph_corr(col_name, df_train, (12,4))"
   ]
  },
  {
   "cell_type": "markdown",
   "metadata": {},
   "source": [
    "- Количество лет на текущей работе"
   ]
  },
  {
   "cell_type": "code",
   "execution_count": null,
   "metadata": {},
   "outputs": [],
   "source": [
    "col_name = 'Years in current job'\n",
    "graph_corr(col_name, df_train, (12,4))"
   ]
  },
  {
   "cell_type": "markdown",
   "metadata": {},
   "source": [
    "- Цель"
   ]
  },
  {
   "cell_type": "code",
   "execution_count": null,
   "metadata": {},
   "outputs": [],
   "source": [
    "col_name = 'Purpose'\n",
    "graph_corr(col_name, df_train, (12,4))"
   ]
  },
  {
   "cell_type": "markdown",
   "metadata": {},
   "source": [
    "- Срочность"
   ]
  },
  {
   "cell_type": "code",
   "execution_count": null,
   "metadata": {},
   "outputs": [],
   "source": [
    "col_name = 'Term'\n",
    "graph_corr(col_name, df_train, (12,4))"
   ]
  },
  {
   "cell_type": "markdown",
   "metadata": {},
   "source": [
    "В целом вывод таков, что разбиение на категории играет большую роль, и этим пренебрегать не следует, даже если наблюдений мало. "
   ]
  },
  {
   "cell_type": "markdown",
   "metadata": {},
   "source": [
    "### 5. Отбор признаков"
   ]
  },
  {
   "cell_type": "markdown",
   "metadata": {},
   "source": [
    "Еще раз взглянем на корреляцию признаков с целевой переменной 'Credit Default'"
   ]
  },
  {
   "cell_type": "code",
   "execution_count": null,
   "metadata": {},
   "outputs": [],
   "source": [
    "corr_with_target = df_train.corr().iloc[:-1, -1].sort_values(ascending=False)\n",
    "\n",
    "plt.figure(figsize=(12, 4))\n",
    "\n",
    "sns.barplot(x = corr_with_target.values, y = corr_with_target.index)\n",
    "\n",
    "plt.title('Correlation with target variable')\n",
    "plt.show()"
   ]
  },
  {
   "cell_type": "markdown",
   "metadata": {},
   "source": [
    "Как обычно, не особенно информативно. Посмотрим на разные сочетания пар признаков."
   ]
  },
  {
   "cell_type": "code",
   "execution_count": null,
   "metadata": {},
   "outputs": [],
   "source": [
    "col_1 = 'Annual Income'\n",
    "col_2 = 'Current Loan Amount'\n",
    "show_kde = False\n",
    "show_joint = True\n",
    "plt.figure(figsize = (6, 6))\n",
    "if show_kde:    \n",
    "    sns.kdeplot(df_train[col_1], label = col_1)\n",
    "    sns.kdeplot(df_train[col_2], label = col_2)\n",
    "\n",
    "    plt.title(col_1 + ' vs ' + col_2)\n",
    "    plt.show()"
   ]
  },
  {
   "cell_type": "code",
   "execution_count": null,
   "metadata": {},
   "outputs": [],
   "source": [
    "tmp = df_train[[col_1, col_2]]\n",
    "\n",
    "if show_joint:\n",
    "    sns.jointplot(x = col_1, y = col_2, data = tmp)\n",
    "    plt.show()"
   ]
  },
  {
   "cell_type": "markdown",
   "metadata": {},
   "source": [
    "Видим линию, ограничивающую текущую сумму кредита сверху (upper limit), значит чем ниже годовой доход, тем в целом ниже текущая сумма кредита. Но, так как имеется ярко выраженный максимум частоты встречаемости годового дохода (т.е. яркая мода), то любопытно было бы взглянуть на условное (согласно моде) распределение текущей суммы кредита. Моду заменим на близкую медиану (величина непрерывная, поэтому моду трудно вычислять)."
   ]
  },
  {
   "cell_type": "code",
   "execution_count": null,
   "metadata": {},
   "outputs": [],
   "source": [
    "tmp = df_train.loc[df_train[col_1] == df_train[col_1].median(), col_2]\n",
    "\n",
    "sns.distplot(tmp)\n",
    "plt.title('For most frequently ' + col_1 + ' value')\n",
    "plt.show()"
   ]
  },
  {
   "cell_type": "markdown",
   "metadata": {},
   "source": [
    "Поделим на \"дефолтников\" и \"недефолтников\""
   ]
  },
  {
   "cell_type": "code",
   "execution_count": null,
   "metadata": {},
   "outputs": [],
   "source": [
    "tmp_0 = df_train.loc[(df_train[col_1] == df_train[col_1].median()) & (df_train['Credit Default'] == 0), col_2]\n",
    "tmp_1 = df_train.loc[(df_train[col_1] == df_train[col_1].median()) & (df_train['Credit Default'] == 1), col_2]\n",
    "\n",
    "sns.distplot(tmp_0)\n",
    "sns.distplot(tmp_1)\n",
    "plt.title('For most frequently ' + col_1 + ' value')\n",
    "plt.legend(['No Default', 'Default'])\n",
    "plt.show()"
   ]
  },
  {
   "cell_type": "markdown",
   "metadata": {},
   "source": [
    "В целом, у \"дефолтников\" текущая сумма кредита больше."
   ]
  },
  {
   "cell_type": "code",
   "execution_count": null,
   "metadata": {},
   "outputs": [],
   "source": []
  },
  {
   "cell_type": "markdown",
   "metadata": {},
   "source": [
    "4. Анализ данных\\n\",\n",
    "    \"5. Отбор признаков\\n\",\n",
    "    \"6. Балансировка классов\\n\",\n",
    "    \"7. Подбор моделей, получение бейзлана\\n\",\n",
    "    \"8. Выбор наилучшей модели, настройка гиперпараметров\\n\",\n",
    "    \"9. Проверка качества, борьба с переобучением\\n\",\n",
    "    \"10. Интерпретация результатов\\n\",\n",
    "    \"\\n\",\n",
    "    \"**Прогнозирование на тестовом датасете**\\n\",\n",
    "    \"1. Выполнить для тестового датасета те же этапы обработки и постронияния признаков\\n\",\n",
    "    \"2. Спрогнозировать целевую переменную, используя модель, построенную на обучающем датасете\\n\",\n",
    "    \"3. Прогнозы должны быть для всех примеров из тестового датасета (для всех строк)\\n\",\n",
    "    \"4. Соблюдать исходный порядок примеров из тестового датасета\""
   ]
  },
  {
   "cell_type": "code",
   "execution_count": null,
   "metadata": {},
   "outputs": [],
   "source": []
  },
  {
   "cell_type": "code",
   "execution_count": null,
   "metadata": {},
   "outputs": [],
   "source": []
  },
  {
   "cell_type": "markdown",
   "metadata": {},
   "source": [
    "## Прогнозирование на тестовом датасете"
   ]
  },
  {
   "cell_type": "code",
   "execution_count": null,
   "metadata": {},
   "outputs": [],
   "source": []
  }
 ],
 "metadata": {
  "kernelspec": {
   "display_name": "Python 3",
   "language": "python",
   "name": "python3"
  },
  "language_info": {
   "codemirror_mode": {
    "name": "ipython",
    "version": 3
   },
   "file_extension": ".py",
   "mimetype": "text/x-python",
   "name": "python",
   "nbconvert_exporter": "python",
   "pygments_lexer": "ipython3",
   "version": "3.7.5"
  }
 },
 "nbformat": 4,
 "nbformat_minor": 2
}
